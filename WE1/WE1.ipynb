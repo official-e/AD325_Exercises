{
 "cells": [
  {
   "cell_type": "markdown",
   "id": "5af489b9",
   "metadata": {},
   "source": [
    "Question 3 Code Step by Step BankAccount class and methods"
   ]
  },
  {
   "cell_type": "code",
   "execution_count": 28,
   "id": "5e64b482",
   "metadata": {},
   "outputs": [],
   "source": [
    "class BankAccount:\n",
    "    def __init__(self, name):\n",
    "        self._name = name\n",
    "        self._balance = 0.0\n",
    "        self._transaction_fee = 0.0  \n",
    "\n",
    "    @property\n",
    "    def name(self):\n",
    "        return self._name\n",
    "\n",
    "    @property\n",
    "    def balance(self):\n",
    "        return self._balance\n",
    "\n",
    "    @property\n",
    "    def transaction_fee(self):\n",
    "        return self._transaction_fee\n",
    "\n",
    "    @transaction_fee.setter\n",
    "    def transaction_fee(self, fee):\n",
    "        if fee >= 0:\n",
    "            self._transaction_fee = fee\n",
    "            \n",
    "    def deposit(self, amount):\n",
    "        if amount > 0:\n",
    "            self._balance += amount\n",
    "\n",
    "    def withdraw(self, amount):\n",
    "        total_amount = amount + self._transaction_fee\n",
    "        if 0 < total_amount <= self._balance:\n",
    "            self._balance -= total_amount\n",
    "    def __str__(self):\n",
    "        return f\"{self._name}, ${self._balance:.2f}\""
   ]
  },
  {
   "cell_type": "code",
   "execution_count": 29,
   "id": "6c42cd66",
   "metadata": {},
   "outputs": [
    {
     "name": "stdout",
     "output_type": "stream",
     "text": [
      "Bruce Wayne\n",
      "0.0\n"
     ]
    }
   ],
   "source": [
    "ba = BankAccount(\"Bruce Wayne\")\n",
    "print(ba.name)\n",
    "print(ba.balance)"
   ]
  },
  {
   "cell_type": "code",
   "execution_count": 30,
   "id": "ea7d80d2",
   "metadata": {},
   "outputs": [
    {
     "name": "stdout",
     "output_type": "stream",
     "text": [
      "10000000.0\n"
     ]
    }
   ],
   "source": [
    "ba.deposit(10000000)\n",
    "print(ba.balance)"
   ]
  },
  {
   "cell_type": "code",
   "execution_count": 31,
   "id": "a49be7ac",
   "metadata": {},
   "outputs": [
    {
     "name": "stdout",
     "output_type": "stream",
     "text": [
      "9995000.0\n"
     ]
    }
   ],
   "source": [
    "ba.withdraw(5000)\n",
    "print(ba.balance)"
   ]
  },
  {
   "cell_type": "markdown",
   "id": "31d304b4",
   "metadata": {},
   "source": [
    "Question 4 BankAccount transaction fee"
   ]
  },
  {
   "cell_type": "code",
   "execution_count": 32,
   "id": "d25a023d",
   "metadata": {},
   "outputs": [],
   "source": [
    "ba = BankAccount(\"Bruce Wayne\")\n",
    "ba.deposit(10000000)"
   ]
  },
  {
   "cell_type": "code",
   "execution_count": 33,
   "id": "ed4e2217",
   "metadata": {},
   "outputs": [
    {
     "name": "stdout",
     "output_type": "stream",
     "text": [
      "9985000.0\n"
     ]
    }
   ],
   "source": [
    "ba.transaction_fee = 10000\n",
    "ba.withdraw(5000)\n",
    "print(ba.balance)"
   ]
  },
  {
   "cell_type": "markdown",
   "id": "c9d0da02",
   "metadata": {},
   "source": [
    "Question 5 BankAccount __str__"
   ]
  },
  {
   "cell_type": "code",
   "execution_count": 34,
   "id": "a127f856",
   "metadata": {},
   "outputs": [
    {
     "data": {
      "text/plain": [
       "'Bruce Wayne, $10000000.00'"
      ]
     },
     "execution_count": 34,
     "metadata": {},
     "output_type": "execute_result"
    }
   ],
   "source": [
    "ba = BankAccount(\"Bruce Wayne\")\n",
    "ba.deposit(10000000)\n",
    "str(ba)"
   ]
  },
  {
   "cell_type": "markdown",
   "id": "b77008bc",
   "metadata": {},
   "source": [
    "Question 6 Factorial"
   ]
  },
  {
   "cell_type": "code",
   "execution_count": 37,
   "id": "96447f34",
   "metadata": {},
   "outputs": [],
   "source": [
    "def factorial(n):\n",
    "    if n == 0 or n == 1:\n",
    "        return 1\n",
    "    else:\n",
    "        return n * factorial(n-1)"
   ]
  },
  {
   "cell_type": "code",
   "execution_count": 38,
   "id": "1b159a3f",
   "metadata": {},
   "outputs": [
    {
     "name": "stdout",
     "output_type": "stream",
     "text": [
      "120\n"
     ]
    }
   ],
   "source": [
    "print(factorial(5))"
   ]
  }
 ],
 "metadata": {
  "kernelspec": {
   "display_name": "base",
   "language": "python",
   "name": "python3"
  },
  "language_info": {
   "codemirror_mode": {
    "name": "ipython",
    "version": 3
   },
   "file_extension": ".py",
   "mimetype": "text/x-python",
   "name": "python",
   "nbconvert_exporter": "python",
   "pygments_lexer": "ipython3",
   "version": "3.13.5"
  }
 },
 "nbformat": 4,
 "nbformat_minor": 5
}
