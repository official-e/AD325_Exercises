{
 "cells": [
  {
   "cell_type": "markdown",
   "id": "2895f095",
   "metadata": {},
   "source": [
    "Question 1 count_duplicates function"
   ]
  },
  {
   "cell_type": "code",
   "execution_count": 1,
   "id": "8c787585",
   "metadata": {},
   "outputs": [],
   "source": [
    "def count_duplicates(int_list):\n",
    "    spotted = set()\n",
    "    duplicates = 0\n",
    "\n",
    "    for num in int_list:\n",
    "        if num in spotted:\n",
    "            duplicates += 1\n",
    "        else:\n",
    "            spotted.add(num)\n",
    "    return duplicates"
   ]
  },
  {
   "cell_type": "code",
   "execution_count": 4,
   "id": "f4738782",
   "metadata": {},
   "outputs": [
    {
     "data": {
      "text/plain": [
       "6"
      ]
     },
     "execution_count": 4,
     "metadata": {},
     "output_type": "execute_result"
    }
   ],
   "source": [
    "count_duplicates([1, 4, 2, 4, 7, 1, 1, 9, 2, 3, 4, 1])"
   ]
  },
  {
   "cell_type": "code",
   "execution_count": null,
   "id": "b0c98754",
   "metadata": {},
   "outputs": [],
   "source": [
    "Question 2 is_stack_sorted function"
   ]
  },
  {
   "cell_type": "code",
   "execution_count": 2,
   "id": "6162f7ef",
   "metadata": {},
   "outputs": [],
   "source": [
    "def is_stack_sorted(stack):\n",
    "    if len(stack) <= 1:\n",
    "        return True\n",
    "\n",
    "    aux = []\n",
    "    sorted = True\n",
    "\n",
    "    prev = stack.pop()\n",
    "    aux.append(prev)\n",
    "\n",
    "    while len(stack) > 0:\n",
    "        current = stack.pop()\n",
    "        aux.append(current)\n",
    "        if prev > current:\n",
    "            sorted = False\n",
    "        \n",
    "        prev = current\n",
    "            \n",
    "\n",
    "    while len(aux) > 0:\n",
    "        stack.append(aux.pop())\n",
    "\n",
    "    return sorted"
   ]
  },
  {
   "cell_type": "code",
   "execution_count": 7,
   "id": "a8f5d1dd",
   "metadata": {},
   "outputs": [
    {
     "name": "stdout",
     "output_type": "stream",
     "text": [
      "False\n",
      "True\n"
     ]
    }
   ],
   "source": [
    "print(is_stack_sorted([2, 4, 5, 4, 10, 12]))\n",
    "print(is_stack_sorted([10, 9, 8, 7]))"
   ]
  },
  {
   "cell_type": "markdown",
   "id": "e805889b",
   "metadata": {},
   "source": [
    "Question 3 median function"
   ]
  },
  {
   "cell_type": "code",
   "execution_count": 3,
   "id": "ca17f1d7",
   "metadata": {},
   "outputs": [],
   "source": [
    "def median(int_list):\n",
    "    int_list.sort()\n",
    "    int_list_median_index = len(int_list)//2\n",
    "    median = int_list[int_list_median_index]\n",
    "    return median"
   ]
  },
  {
   "cell_type": "code",
   "execution_count": 8,
   "id": "0346a25d",
   "metadata": {},
   "outputs": [
    {
     "data": {
      "text/plain": [
       "5"
      ]
     },
     "execution_count": 8,
     "metadata": {},
     "output_type": "execute_result"
    }
   ],
   "source": [
    "median([10, 22, 5, 23, 2, 1, 1])"
   ]
  }
 ],
 "metadata": {
  "kernelspec": {
   "display_name": "base",
   "language": "python",
   "name": "python3"
  },
  "language_info": {
   "codemirror_mode": {
    "name": "ipython",
    "version": 3
   },
   "file_extension": ".py",
   "mimetype": "text/x-python",
   "name": "python",
   "nbconvert_exporter": "python",
   "pygments_lexer": "ipython3",
   "version": "3.13.5"
  }
 },
 "nbformat": 4,
 "nbformat_minor": 5
}
